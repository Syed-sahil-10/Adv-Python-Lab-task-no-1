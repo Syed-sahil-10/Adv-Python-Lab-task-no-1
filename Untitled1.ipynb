{
  "nbformat": 4,
  "nbformat_minor": 0,
  "metadata": {
    "colab": {
      "provenance": [],
      "authorship_tag": "ABX9TyPUN4LOa2TUPZf108VVQDPJ",
      "include_colab_link": true
    },
    "kernelspec": {
      "name": "python3",
      "display_name": "Python 3"
    },
    "language_info": {
      "name": "python"
    }
  },
  "cells": [
    {
      "cell_type": "markdown",
      "metadata": {
        "id": "view-in-github",
        "colab_type": "text"
      },
      "source": [
        "<a href=\"https://colab.research.google.com/github/Syed-sahil-10/Adv-Python-Lab-task-no-1/blob/main/Untitled1.ipynb\" target=\"_parent\"><img src=\"https://colab.research.google.com/assets/colab-badge.svg\" alt=\"Open In Colab\"/></a>"
      ]
    },
    {
      "cell_type": "code",
      "execution_count": 1,
      "metadata": {
        "colab": {
          "base_uri": "https://localhost:8080/"
        },
        "id": "ly-GdBlSKd8y",
        "outputId": "0ac6c315-2d67-485c-afbb-aaffcb3733ac"
      },
      "outputs": [
        {
          "output_type": "stream",
          "name": "stdout",
          "text": [
            "Requirement already satisfied: numpy in /usr/local/lib/python3.11/dist-packages (2.0.2)\n"
          ]
        }
      ],
      "source": [
        "!pip install numpy"
      ]
    },
    {
      "cell_type": "code",
      "source": [],
      "metadata": {
        "id": "lNi7pdw_Kho8"
      },
      "execution_count": null,
      "outputs": []
    },
    {
      "cell_type": "code",
      "metadata": {
        "colab": {
          "base_uri": "https://localhost:8080/"
        },
        "id": "35267373",
        "outputId": "699c4804-4fa7-43f4-e187-038622e575f7"
      },
      "source": [
        "import numpy as np\n",
        "\n",
        "# Generate a 2D array (matrix) of random integers\n",
        "data = np.random.randint(0, 100, size=(5, 4))\n",
        "print(\"Original Data Array:\")\n",
        "print(data)"
      ],
      "execution_count": 2,
      "outputs": [
        {
          "output_type": "stream",
          "name": "stdout",
          "text": [
            "Original Data Array:\n",
            "[[48 77 47 51]\n",
            " [ 8 44 66 35]\n",
            " [53  0 53 98]\n",
            " [66 65 21 11]\n",
            " [34 99 40 96]]\n"
          ]
        }
      ]
    },
    {
      "cell_type": "code",
      "metadata": {
        "colab": {
          "base_uri": "https://localhost:8080/"
        },
        "id": "486ed0ad",
        "outputId": "5c7a1759-06aa-4252-e7a6-7b5abd26f0a2"
      },
      "source": [
        "# Reshape the array\n",
        "reshaped_data = data.reshape(10, 2)\n",
        "print(\"\\nReshaped Data Array (10x2):\")\n",
        "print(reshaped_data)\n",
        "\n",
        "# Slicing the array\n",
        "sliced_data = data[0:2, 1:3]\n",
        "print(\"\\nSliced Data Array (first 2 rows, columns 1 and 2):\")\n",
        "print(sliced_data)\n",
        "\n",
        "# Indexing the array\n",
        "indexed_value = data[3, 2]\n",
        "print(\"\\nValue at row 3, column 2:\")\n",
        "print(indexed_value)"
      ],
      "execution_count": 3,
      "outputs": [
        {
          "output_type": "stream",
          "name": "stdout",
          "text": [
            "\n",
            "Reshaped Data Array (10x2):\n",
            "[[48 77]\n",
            " [47 51]\n",
            " [ 8 44]\n",
            " [66 35]\n",
            " [53  0]\n",
            " [53 98]\n",
            " [66 65]\n",
            " [21 11]\n",
            " [34 99]\n",
            " [40 96]]\n",
            "\n",
            "Sliced Data Array (first 2 rows, columns 1 and 2):\n",
            "[[77 47]\n",
            " [44 66]]\n",
            "\n",
            "Value at row 3, column 2:\n",
            "21\n"
          ]
        }
      ]
    }
  ]
}